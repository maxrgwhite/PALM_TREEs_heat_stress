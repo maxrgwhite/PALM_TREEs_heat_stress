{
 "cells": [
  {
   "cell_type": "code",
   "execution_count": 1,
   "metadata": {},
   "outputs": [],
   "source": [
    "%run cube_creation_backend.ipynb\n",
    "import basic_info"
   ]
  },
  {
   "cell_type": "code",
   "execution_count": null,
   "metadata": {},
   "outputs": [],
   "source": [
    "filepaths = {'tas': basic_info.tas_filepath,\n",
    "            'td': basic_info.td_filepath}\n",
    "\n",
    "data_folder = basic_info.data_folder\n",
    "tas_cube, rh_cube, es_cube, td_cube = create_my_files() # creates tas, rh, td, and es cubes (so named, e.g. \"tas_cube\") unless they already exist\n",
    "\n",
    "# tas_cube: temperature at surface (in ˚C)\n",
    "# rh_cube: relative humidity (in %)\n",
    "# td_cube: dew point temperature (in ˚C)\n",
    "# es_cube: water vapor pressure (in kilopascals)"
   ]
  }
 ],
 "metadata": {
  "kernelspec": {
   "display_name": "testenv",
   "language": "python",
   "name": "python3"
  },
  "language_info": {
   "codemirror_mode": {
    "name": "ipython",
    "version": 3
   },
   "file_extension": ".py",
   "mimetype": "text/x-python",
   "name": "python",
   "nbconvert_exporter": "python",
   "pygments_lexer": "ipython3",
   "version": "3.12.2"
  }
 },
 "nbformat": 4,
 "nbformat_minor": 2
}
