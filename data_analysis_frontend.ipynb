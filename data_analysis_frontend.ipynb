{
 "cells": [
  {
   "cell_type": "code",
   "execution_count": 19,
   "metadata": {},
   "outputs": [],
   "source": [
    "%run data_analysis_backend.ipynb\n",
    "import basic_info"
   ]
  },
  {
   "cell_type": "code",
   "execution_count": null,
   "metadata": {},
   "outputs": [],
   "source": [
    "location_name = basic_info.location_name\n",
    "start_year = 1951\n",
    "end_year = 1994\n",
    "\n",
    "output_folder = f'{output_folder}'\n",
    "\n",
    "# INSTRUCTIONS: Change to a more informative shapefile to overlay on the map if this is insufficient being an outline\n",
    "# Specify shapefile to work with\n",
    "shapefile = gpd.read_file(basic_info.shapefile_outline)\n",
    "print('Shapefile loaded')\n",
    "\n",
    "heat_index_cube, tas_cube, rh_cube = load_my_files()"
   ]
  },
  {
   "cell_type": "markdown",
   "metadata": {},
   "source": [
    "## Province-level descriptives: temperature and humidity"
   ]
  },
  {
   "cell_type": "markdown",
   "metadata": {},
   "source": [
    "A map of the region"
   ]
  },
  {
   "cell_type": "code",
   "execution_count": null,
   "metadata": {},
   "outputs": [],
   "source": [
    "plot_my_region()"
   ]
  },
  {
   "cell_type": "markdown",
   "metadata": {},
   "source": [
    "Average temperature and relative humidity per month"
   ]
  },
  {
   "cell_type": "code",
   "execution_count": null,
   "metadata": {},
   "outputs": [],
   "source": [
    "plot_monthly_average_tas_and_rh()"
   ]
  },
  {
   "cell_type": "markdown",
   "metadata": {},
   "source": [
    "Maps of minimum, mean, and maximum heat indeces per grid cell across the available data.\n",
    "- Used the mean rather than median as interested in extremes and the mean is more sensitive to this"
   ]
  },
  {
   "cell_type": "code",
   "execution_count": null,
   "metadata": {},
   "outputs": [],
   "source": [
    "create_season_year_aggregates()\n",
    "create_overall_aggregates()"
   ]
  },
  {
   "cell_type": "markdown",
   "metadata": {},
   "source": [
    "# Timeseries"
   ]
  },
  {
   "cell_type": "markdown",
   "metadata": {},
   "source": [
    "## Heat Index over time"
   ]
  },
  {
   "cell_type": "markdown",
   "metadata": {},
   "source": [
    "Plot of monthly spatial maximum values for min, 25th percentile, mean, median, 75th percentile, and max values for Lu and Romps' (2022) Heat Index"
   ]
  },
  {
   "cell_type": "code",
   "execution_count": null,
   "metadata": {},
   "outputs": [],
   "source": [
    "temporally_plot_monthly_mean_values_from_Lu_and_Romps_against_air_temperature()"
   ]
  },
  {
   "cell_type": "markdown",
   "metadata": {},
   "source": [
    "# Maps"
   ]
  },
  {
   "cell_type": "code",
   "execution_count": null,
   "metadata": {},
   "outputs": [],
   "source": [
    "maximum_values_per_cell = find_maximum_values_per_cell(heat_index_cube)\n",
    "maximum_values_per_cell_for_tas = find_maximum_values_per_cell_for_tas(tas_cube)"
   ]
  },
  {
   "cell_type": "markdown",
   "metadata": {},
   "source": [
    "# Maps for decadal average summaries"
   ]
  },
  {
   "cell_type": "code",
   "execution_count": null,
   "metadata": {},
   "outputs": [],
   "source": [
    "statistics = calculate_statistics_per_decade(heat_index_cube)\n",
    "plot_decadal_maps(statistics, output_folder)"
   ]
  },
  {
   "cell_type": "code",
   "execution_count": null,
   "metadata": {},
   "outputs": [],
   "source": []
  }
 ],
 "metadata": {
  "kernelspec": {
   "display_name": "testenv",
   "language": "python",
   "name": "python3"
  },
  "language_info": {
   "codemirror_mode": {
    "name": "ipython",
    "version": 3
   },
   "file_extension": ".py",
   "mimetype": "text/x-python",
   "name": "python",
   "nbconvert_exporter": "python",
   "pygments_lexer": "ipython3",
   "version": "3.12.2"
  }
 },
 "nbformat": 4,
 "nbformat_minor": 2
}
