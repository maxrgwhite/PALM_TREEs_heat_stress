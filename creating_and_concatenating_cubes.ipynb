{
 "cells": [
  {
   "cell_type": "code",
   "execution_count": 5,
   "metadata": {},
   "outputs": [],
   "source": [
    "'''\n",
    "--------------------------------------------------------------------------------\n",
    "Author: Max White\n",
    "Language: Python3\n",
    "--------------------------------------------------------------------------------\n",
    "Catherine Bradshaw has already written a script to request the data for you. \n",
    "This code is used to merge it all together\n",
    "\n",
    "INSTRUCTION 1: Open 'basic_info.py' and update the information in there. The following code will then work.\n",
    "INSTRUCTION 2: Change the minimum_weight below to see how it affects the masking of the data.\n",
    "    Reducing the weight will include more data; increasing the weight will exclude more data.\n",
    "'''\n",
    "import importlib # This is used to reload the basic_info script in case you update it\n",
    "import basic_info # Importing the basic information script you need to update!\n",
    "import shapefile_extraction # Importing the shapefile extraction script\n",
    "import os\n",
    "import geopandas as gpd\n",
    "import iris\n",
    "from iris.util import equalise_attributes\n",
    "import iris.quickplot as qplt\n",
    "import cartopy.crs as ccrs\n",
    "import matplotlib.pyplot as plt\n",
    "importlib.reload(basic_info)\n",
    "\n",
    "directory_path = basic_info.directory_filepath\n",
    "data_folder = basic_info.data_folder\n",
    "tas_files = basic_info.tas_files\n",
    "td_files = basic_info.td_files\n",
    "shapefile_folder = basic_info.shapefile_folder\n",
    "shapefile_file = basic_info.shapefile_file\n",
    "shapefile_extraction.create_my_shape_outline(shapefile_file)"
   ]
  },
  {
   "cell_type": "markdown",
   "metadata": {},
   "source": [
    "## Concatenation"
   ]
  },
  {
   "cell_type": "code",
   "execution_count": null,
   "metadata": {},
   "outputs": [],
   "source": [
    "def concatenate_data(filepath, cube_name):\n",
    "    \"\"\"\n",
    "    Load the data from the specified file path and concatenate the cubes into a single cube for further processing.\n",
    "    \"\"\"\n",
    "    cubelist = iris.cube.CubeList([])\n",
    "    files = os.listdir(filepath)\n",
    "    for file in files:\n",
    "        if file.endswith('.nc'):\n",
    "            cubelist.append(iris.load_cube(f'{filepath}/{file}')) # So far the data is loaded into a list of cubes but not concatenated\n",
    "    \n",
    "    # Sort cubes by time coordinate\n",
    "    cubelist.sort(key=lambda cube: cube.coord('time').points[0]) # This line sorts the cubes by the time coordinate so that they can be concatenated in the correct order\n",
    "    \n",
    "    # Remove overlapping cubes\n",
    "    non_overlapping_cubelist = iris.cube.CubeList([])\n",
    "    last_time = None\n",
    "    for cube in cubelist:\n",
    "        current_time = cube.coord('time').points[0]\n",
    "        if last_time is None or current_time > last_time:\n",
    "            non_overlapping_cubelist.append(cube)\n",
    "            last_time = cube.coord('time').points[-1]\n",
    "    \n",
    "    removed_attributes = equalise_attributes(non_overlapping_cubelist)\n",
    "    concatenated_cube = non_overlapping_cubelist.concatenate_cube()\n",
    "    return concatenated_cube\n",
    "\n",
    "tas = concatenate_data(tas_files, 'tas')\n",
    "td = concatenate_data(td_files, 'td')\n",
    "\n",
    "importlib.reload(basic_info)\n",
    "shapefile_outline = gpd.read_file(basic_info.shapefile_outline)"
   ]
  },
  {
   "cell_type": "markdown",
   "metadata": {},
   "source": [
    "## Masking using a shapefile"
   ]
  },
  {
   "cell_type": "code",
   "execution_count": null,
   "metadata": {},
   "outputs": [],
   "source": [
    "def save_and_mask_cube_for_later_use(cube, name, shapefile_outline, filepath):\n",
    "    \"\"\"\n",
    "    Save the cube to a netCDF file for later use.\n",
    "\n",
    "    Parameters:\n",
    "    -----------\n",
    "    cube: iris.cube.Cube\n",
    "        The cube to save.\n",
    "    name: str\n",
    "        The name of the cube.\n",
    "    shapefile_outline: str\n",
    "        The file path to the shapefile outline.\n",
    "    filepath: str\n",
    "        The file path to save the cube to.\n",
    "    \"\"\"\n",
    "    masked_cube = iris.util.mask_cube_from_shapefile(cube, shapefile_outline, minimum_weight=0.5)\n",
    "    iris.save(masked_cube, filepath)\n",
    "    f = open('basic_info.py', 'a')\n",
    "    f.write(f\"\\n{name}_filepath = '{data_folder}/{name}_cube.nc'\\n\")\n",
    "    f.close()\n",
    "    print('shapefile created and saved as outline.shp')\n",
    "    \n",
    "save_and_mask_cube_for_later_use(tas, 'tas', shapefile_outline.geometry[0], f'{data_folder}/tas_cube.nc')\n",
    "save_and_mask_cube_for_later_use(td, 'td', shapefile_outline.geometry[0], f'{data_folder}/td_cube.nc')\n",
    "\n",
    "tas_cube_masked = iris.util.mask_cube_from_shapefile(tas, shapefile_outline.geometry[0], minimum_weight=0.5)\n",
    "\n",
    "td_cube_masked = iris.util.mask_cube_from_shapefile(td, shapefile_outline.geometry[0], minimum_weight=0.5)\n",
    "\n",
    "# Plotting the masked tas_cube with shapefile overlayed to check weighting\n",
    "fig = plt.figure(figsize=[10, 10])\n",
    "ax = plt.axes(projection=ccrs.PlateCarree())\n",
    "qplt.pcolormesh(tas_cube_masked[0], cmap='viridis')\n",
    "\n",
    "# Overlay the shapefile\n",
    "shapefile_outline.boundary.plot(ax=ax, edgecolor='red')\n",
    "\n",
    "plt.show()"
   ]
  },
  {
   "cell_type": "code",
   "execution_count": null,
   "metadata": {},
   "outputs": [],
   "source": []
  }
 ],
 "metadata": {
  "kernelspec": {
   "display_name": "testenv",
   "language": "python",
   "name": "python3"
  },
  "language_info": {
   "codemirror_mode": {
    "name": "ipython",
    "version": 3
   },
   "file_extension": ".py",
   "mimetype": "text/x-python",
   "name": "python",
   "nbconvert_exporter": "python",
   "pygments_lexer": "ipython3",
   "version": "3.12.2"
  }
 },
 "nbformat": 4,
 "nbformat_minor": 2
}
